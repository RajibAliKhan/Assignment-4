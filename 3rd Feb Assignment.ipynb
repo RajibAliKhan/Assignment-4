{
 "cells": [
  {
   "cell_type": "code",
   "execution_count": null,
   "id": "77b253ea-916a-4caf-9ab0-b1cc89aef64f",
   "metadata": {},
   "outputs": [],
   "source": [
    "# Answer of Q1\n",
    "\n",
    "def keyword is used to create a function."
   ]
  },
  {
   "cell_type": "code",
   "execution_count": 8,
   "id": "810f7fcf-ce85-4683-a689-bc561bc16ce6",
   "metadata": {},
   "outputs": [
    {
     "data": {
      "text/plain": [
       "[1, 3, 5, 7, 9, 11, 13, 15, 17, 19, 21, 23, 25]"
      ]
     },
     "execution_count": 8,
     "metadata": {},
     "output_type": "execute_result"
    }
   ],
   "source": [
    "def test1() :\n",
    "    l = []\n",
    "    for i in range(1,26) :\n",
    "        if i % 2 != 0 :\n",
    "            l.append(i)\n",
    "    return l\n",
    "test1()"
   ]
  },
  {
   "cell_type": "code",
   "execution_count": null,
   "id": "56a64993-bbf0-41aa-b27b-475a372dcfea",
   "metadata": {},
   "outputs": [],
   "source": [
    "# Answer of Q2\n",
    "# uses of *args function :\n",
    "\n",
    "*args is used for passing 'n' number of agruments.\n",
    "all arguments should in tuple format."
   ]
  },
  {
   "cell_type": "code",
   "execution_count": 10,
   "id": "524b503f-b7eb-4269-9674-31d471b2dc70",
   "metadata": {},
   "outputs": [
    {
     "data": {
      "text/plain": [
       "()"
      ]
     },
     "execution_count": 10,
     "metadata": {},
     "output_type": "execute_result"
    }
   ],
   "source": [
    "def test2(*args) :\n",
    "    return args\n",
    "test2()"
   ]
  },
  {
   "cell_type": "code",
   "execution_count": 12,
   "id": "3e87f462-904c-4997-8ceb-6a7dda741e92",
   "metadata": {},
   "outputs": [],
   "source": [
    "# demonstrate the uses of *args function :\n",
    "\n",
    "def test3(*args, a) :\n",
    "    return args, a"
   ]
  },
  {
   "cell_type": "code",
   "execution_count": 14,
   "id": "82640406-fe61-4655-b4be-56a866b9d229",
   "metadata": {},
   "outputs": [
    {
     "data": {
      "text/plain": [
       "((1, 2, 3, 4), 5)"
      ]
     },
     "execution_count": 14,
     "metadata": {},
     "output_type": "execute_result"
    }
   ],
   "source": [
    "test3(1,2,3,4, a = 5)"
   ]
  },
  {
   "cell_type": "code",
   "execution_count": null,
   "id": "34573274-3525-451e-af8d-09f23a489022",
   "metadata": {},
   "outputs": [],
   "source": [
    "# uses of **kwargs function :\n",
    "\n",
    "it is basically used for creating a doct type of data and return the same."
   ]
  },
  {
   "cell_type": "code",
   "execution_count": 18,
   "id": "ceb4d476-7875-47bf-9f12-7c35ed776745",
   "metadata": {},
   "outputs": [
    {
     "data": {
      "text/plain": [
       "{}"
      ]
     },
     "execution_count": 18,
     "metadata": {},
     "output_type": "execute_result"
    }
   ],
   "source": [
    "def test4(**kwargs) :\n",
    "    return kwargs\n",
    "test4()"
   ]
  },
  {
   "cell_type": "code",
   "execution_count": 20,
   "id": "448d809a-b92d-4e36-aec8-b9e8f7c27184",
   "metadata": {},
   "outputs": [
    {
     "data": {
      "text/plain": [
       "{'a': [1, 2, 3, 4], 'b': 'rajib', 'c': 54.23}"
      ]
     },
     "execution_count": 20,
     "metadata": {},
     "output_type": "execute_result"
    }
   ],
   "source": [
    "# demonstrate the uses of **kwargs function :\n",
    "\n",
    "test4(a = [1,2,3,4], b = 'rajib', c = 54.23)"
   ]
  },
  {
   "cell_type": "code",
   "execution_count": null,
   "id": "0c395ef6-dc70-4c7b-a19d-3e62853b9d06",
   "metadata": {},
   "outputs": [],
   "source": [
    "# Answer of Q3\n",
    "\n",
    "An iterator is an object that collect data, one element at a time. \n",
    "Iterators are used to iterate through a sequence of data, such as a list, tuple, or dict."
   ]
  },
  {
   "cell_type": "code",
   "execution_count": 22,
   "id": "8d763826-8a6b-4e56-911a-358473d34a9c",
   "metadata": {},
   "outputs": [
    {
     "name": "stdout",
     "output_type": "stream",
     "text": [
      "1\n",
      "2\n",
      "3\n",
      "4\n"
     ]
    }
   ],
   "source": [
    "# Here I use for loop for iteration.\n",
    "\n",
    "l = [1,2,3,4]\n",
    "for i in l :\n",
    "    print(i)"
   ]
  },
  {
   "cell_type": "code",
   "execution_count": 27,
   "id": "d5f40043-669e-4b93-830d-785d7ba4d5a1",
   "metadata": {},
   "outputs": [
    {
     "name": "stdout",
     "output_type": "stream",
     "text": [
      "2\n",
      "4\n",
      "6\n",
      "8\n",
      "10\n"
     ]
    }
   ],
   "source": [
    "# print the first five elements of the given list\n",
    "\n",
    "l = [2, 4, 6, 8, 10, 12, 14, 16, 18, 20]\n",
    "for i in range(5) :\n",
    "    print(l[i])   "
   ]
  },
  {
   "cell_type": "code",
   "execution_count": null,
   "id": "cd5b15a9-e068-434b-95ae-5dcc9455f66e",
   "metadata": {},
   "outputs": [],
   "source": [
    "# Answer of Q4 :\n",
    "\n",
    "Generator function is basically one type of function that genarate data.\n",
    "To reduce memory consumption, generator function is used.\n",
    "\n",
    "Yield keyword is used in generator function because it helps to generate new data continously.\n"
   ]
  },
  {
   "cell_type": "code",
   "execution_count": 3,
   "id": "c4cfb84f-9b6a-46b2-a9ea-874b7fbc761b",
   "metadata": {},
   "outputs": [],
   "source": [
    "# Example of generator function of yield:\n",
    "\n",
    "def test4(n) :\n",
    "    a,b = 0,1\n",
    "    for i in range(n) :\n",
    "        yield a\n",
    "        a,b = b,a + b"
   ]
  },
  {
   "cell_type": "code",
   "execution_count": 6,
   "id": "a3d7d49e-7091-457d-a3bc-8b8565ff3ac2",
   "metadata": {},
   "outputs": [
    {
     "data": {
      "text/plain": [
       "<generator object test4 at 0x7ff0a81fb140>"
      ]
     },
     "execution_count": 6,
     "metadata": {},
     "output_type": "execute_result"
    }
   ],
   "source": [
    "test4(10)"
   ]
  },
  {
   "cell_type": "code",
   "execution_count": 7,
   "id": "601e7419-2ee0-4f13-b572-7ca7a2709671",
   "metadata": {},
   "outputs": [
    {
     "name": "stdout",
     "output_type": "stream",
     "text": [
      "0\n",
      "1\n",
      "1\n",
      "2\n",
      "3\n",
      "5\n",
      "8\n",
      "13\n",
      "21\n",
      "34\n"
     ]
    }
   ],
   "source": [
    "for i in test4(10) :\n",
    "    print(i)"
   ]
  },
  {
   "cell_type": "code",
   "execution_count": 2,
   "id": "4cdc9dba-dc50-4c70-8b29-8f0af41c671e",
   "metadata": {},
   "outputs": [],
   "source": [
    "# Answer of Q5 :\n",
    "\n",
    "def gen_prime() :\n",
    "    num = 2\n",
    "    while num < 1000 :\n",
    "        for i in range(2,num) :\n",
    "            if num % i == 0 :\n",
    "                break\n",
    "        else :\n",
    "            yield num\n",
    "        num += 1"
   ]
  },
  {
   "cell_type": "code",
   "execution_count": 3,
   "id": "e64dc113-d58a-43cd-b6fe-6c314ff45bb6",
   "metadata": {},
   "outputs": [
    {
     "name": "stdout",
     "output_type": "stream",
     "text": [
      "2\n",
      "3\n",
      "5\n",
      "7\n",
      "11\n",
      "13\n",
      "17\n",
      "19\n",
      "23\n",
      "29\n",
      "31\n",
      "37\n",
      "41\n",
      "43\n",
      "47\n",
      "53\n",
      "59\n",
      "61\n",
      "67\n",
      "71\n"
     ]
    }
   ],
   "source": [
    "prime_num = gen_prime()\n",
    "for i in range(20) :\n",
    "    print(next(prime_num))"
   ]
  },
  {
   "cell_type": "code",
   "execution_count": 28,
   "id": "0a3a3ad7-6733-43d1-b1fe-230db13ab803",
   "metadata": {},
   "outputs": [
    {
     "name": "stdout",
     "output_type": "stream",
     "text": [
      "0\n",
      "1\n",
      "1\n",
      "2\n",
      "3\n",
      "5\n",
      "8\n",
      "13\n",
      "21\n",
      "34\n"
     ]
    }
   ],
   "source": [
    "# Answer of Q6 :\n",
    "\n",
    "a, b = 0, 1\n",
    "counter = 0\n",
    "while counter < 10 :\n",
    "    print(a)\n",
    "    c = a + b\n",
    "    a = b\n",
    "    b = c\n",
    "    counter += 1"
   ]
  },
  {
   "cell_type": "code",
   "execution_count": 31,
   "id": "7990917e-fd40-4516-9009-c655b965270a",
   "metadata": {},
   "outputs": [
    {
     "name": "stdout",
     "output_type": "stream",
     "text": [
      "['p', 'w', 's', 'k', 'i', 'l', 'l', 's']\n"
     ]
    }
   ],
   "source": [
    "# Answer of Q7 :\n",
    "\n",
    "s = 'pwskills'\n",
    "l = [i for i in s]\n",
    "print(l)"
   ]
  },
  {
   "cell_type": "code",
   "execution_count": 1,
   "id": "e57d6cc7-e9be-492e-afdb-dfaecdc4c239",
   "metadata": {},
   "outputs": [
    {
     "name": "stdin",
     "output_type": "stream",
     "text": [
      "Enter your number :  989\n"
     ]
    },
    {
     "name": "stdout",
     "output_type": "stream",
     "text": [
      "989 is not a palindrome number\n"
     ]
    }
   ],
   "source": [
    "# Answer of Q8.\n",
    "\n",
    "num = int(input('Enter your number : '))\n",
    "t = num\n",
    "v = 0\n",
    "while t > 0 :\n",
    "    d = t % 10\n",
    "    v = v * 10 + d\n",
    "    t = t // 10\n",
    "if num == t :\n",
    "    print(num, 'is a palindrome number')\n",
    "else :\n",
    "    print(num, 'is not a palindrome number')"
   ]
  },
  {
   "cell_type": "code",
   "execution_count": 40,
   "id": "e84b4959-e62c-4047-aef0-1a32aac7e366",
   "metadata": {},
   "outputs": [
    {
     "name": "stdout",
     "output_type": "stream",
     "text": [
      "[1, 2, 3, 4, 5, 6, 7, 8, 9, 10, 11, 12, 13, 14, 15, 16, 17, 18, 19, 20, 21, 22, 23, 24, 25, 26, 27, 28, 29, 30, 31, 32, 33, 34, 35, 36, 37, 38, 39, 40, 41, 42, 43, 44, 45, 46, 47, 48, 49, 50, 51, 52, 53, 54, 55, 56, 57, 58, 59, 60, 61, 62, 63, 64, 65, 66, 67, 68, 69, 70, 71, 72, 73, 74, 75, 76, 77, 78, 79, 80, 81, 82, 83, 84, 85, 86, 87, 88, 89, 90, 91, 92, 93, 94, 95, 96, 97, 98, 99, 100]\n"
     ]
    }
   ],
   "source": [
    "# Answer of Q9.\n",
    "\n",
    "l = [i for i in range(1,101)]\n",
    "print(l)"
   ]
  },
  {
   "cell_type": "code",
   "execution_count": 41,
   "id": "6a5bb4b7-9384-4fe7-a7e3-380de02f62c7",
   "metadata": {},
   "outputs": [
    {
     "name": "stdout",
     "output_type": "stream",
     "text": [
      "[1, 2, 3, 4, 5, 6, 7, 8, 9, 10, 11, 12, 13, 14, 15, 16, 17, 18, 19, 20, 21, 22, 23, 24, 25, 26, 27, 28, 29, 30, 31, 32, 33, 34, 35, 36, 37, 38, 39, 40, 41, 42, 43, 44, 45, 46, 47, 48, 49, 50, 51, 52, 53, 54, 55, 56, 57, 58, 59, 60, 61, 62, 63, 64, 65, 66, 67, 68, 69, 70, 71, 72, 73, 74, 75, 76, 77, 78, 79, 80, 81, 82, 83, 84, 85, 86, 87, 88, 89, 90, 91, 92, 93, 94, 95, 96, 97, 98, 99, 100]\n"
     ]
    }
   ],
   "source": [
    "[i for i in l if i % 2 != 0]\n",
    "print(l)"
   ]
  },
  {
   "cell_type": "code",
   "execution_count": null,
   "id": "c2cf5eea-254c-4ae8-b244-c135f08662bb",
   "metadata": {},
   "outputs": [],
   "source": []
  }
 ],
 "metadata": {
  "kernelspec": {
   "display_name": "Python 3 (ipykernel)",
   "language": "python",
   "name": "python3"
  },
  "language_info": {
   "codemirror_mode": {
    "name": "ipython",
    "version": 3
   },
   "file_extension": ".py",
   "mimetype": "text/x-python",
   "name": "python",
   "nbconvert_exporter": "python",
   "pygments_lexer": "ipython3",
   "version": "3.10.8"
  }
 },
 "nbformat": 4,
 "nbformat_minor": 5
}
